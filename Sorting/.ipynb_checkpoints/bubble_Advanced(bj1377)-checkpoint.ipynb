{
 "cells": [
  {
   "cell_type": "markdown",
   "id": "bc117eeb-61d2-491e-b1ee-b90474ea1485",
   "metadata": {},
   "source": [
    "## 버블연산 과정을 간단하게 확인하는 방법\n",
    "## English: \n",
    "\n",
    "버블정렬은 시간복잡도를 많이 잡아먹어. \n",
    "그래서 시간복잡도를 최소화 시키면서 연산과정을 확인하고 싶다면정렬전과 정렬후를 인덱스를 기준으로 비교하면 돼. \n",
    "\n",
    "* A.append((int(input()), i)를 하는 이유는?\n",
    "* \n",
    " => (int(input()), i)\n",
    "\n",
    "→ (정수값, i) 이렇게 튜플로 묶음.\n",
    "\n",
    "예: 10을 입력하고, i가 0이면 (10, 0)\n",
    "\n",
    "여기서 i는 현재 반복문 인덱스(몇 번째 입력인지 표시하는 번호)\n",
    "\n",
    "#### 한 줄 정리: 버블정렬에서 각 원소가 (정렬 전 인덱스 - 정렬 후 인덱스)만큼 이동해야 하므로, 그 중 최대값 + 1이 버블정렬의 최소 반복 횟수이다.\n",
    "\n",
    "# English: \n",
    "How to Quickly Check the Bubble Sort Process\n",
    "Bubble sort is very inefficient in terms of time complexity.\n",
    "So, if you want to check how many operations (swaps) bubble sort would need, without actually running the full algorithm, you can compare the indices before and after sorting.\n",
    "\n",
    "* Why do we use A.append((int(input()), i))?\n",
    "A.append((int(input()), i)) creates a tuple of the form (value, original index) for each input.\n",
    "\n",
    "For example, if you enter 10 and i is 0, the tuple is (10, 0), where i represents the original position of the number.\n",
    "\n",
    "* Why do we add 1 at the end?\n",
    "Bubble sort always does one final pass to check if the array is fully sorted.\n",
    "\n",
    "This is why we add 1 at the end—to account for this last check.0, 2)]\r\n",
    "#### summary in one sentence: In bubble sort, the minimum number of passes needed is the maximum value of (original index - sorted index) for all elements, plus one.\n",
    "\n",
    "\n"
   ]
  },
  {
   "cell_type": "code",
   "execution_count": 21,
   "id": "5491bb01-8b01-4858-b556-5075af0e8b79",
   "metadata": {},
   "outputs": [
    {
     "ename": "ValueError",
     "evalue": "invalid literal for int() with base 10: ''",
     "output_type": "error",
     "traceback": [
      "\u001b[1;31m---------------------------------------------------------------------------\u001b[0m",
      "\u001b[1;31mValueError\u001b[0m                                Traceback (most recent call last)",
      "Cell \u001b[1;32mIn[21], line 4\u001b[0m\n\u001b[0;32m      1\u001b[0m \u001b[38;5;66;03m# import sys\u001b[39;00m\n\u001b[0;32m      2\u001b[0m \u001b[38;5;66;03m# input = sys.stdin.readline\u001b[39;00m\n\u001b[1;32m----> 4\u001b[0m N \u001b[38;5;241m=\u001b[39m \u001b[38;5;28mint\u001b[39m(\u001b[38;5;28minput\u001b[39m())\n\u001b[0;32m      5\u001b[0m A \u001b[38;5;241m=\u001b[39m []\n\u001b[0;32m      7\u001b[0m \u001b[38;5;28;01mfor\u001b[39;00m i \u001b[38;5;129;01min\u001b[39;00m \u001b[38;5;28mrange\u001b[39m(N):\n",
      "\u001b[1;31mValueError\u001b[0m: invalid literal for int() with base 10: ''"
     ]
    }
   ],
   "source": [
    "# import sys\n",
    "# input = sys.stdin.readline\n",
    "\n",
    "N = int(input())\n",
    "A = []\n",
    "\n",
    "for i in range(N):\n",
    "    A.append((int(input()), i))\n",
    "\n",
    "\n",
    "Max = 0\n",
    "sorted_A = sorted(A)\n",
    "\n",
    "for i in range(N):\n",
    "    if Max < sorted_A[i][1] - i: # 정렬 전 인덱스 - 정렬 후 인덱스, 지금까지 확인한 것 중에서 가장 많이 이동한 숫자를 찾는 거야.\n",
    "        Max = sorted_A[i][1] - i # 실제로 Max값을 새로운 값으로 바꿔주는 것.\n",
    "\n",
    "print(Max + 1)\n",
    "    "
   ]
  },
  {
   "cell_type": "code",
   "execution_count": null,
   "id": "2cb81990-ab26-4eb3-b74d-44153200b17a",
   "metadata": {},
   "outputs": [],
   "source": []
  }
 ],
 "metadata": {
  "kernelspec": {
   "display_name": "Python 3 (ipykernel)",
   "language": "python",
   "name": "python3"
  },
  "language_info": {
   "codemirror_mode": {
    "name": "ipython",
    "version": 3
   },
   "file_extension": ".py",
   "mimetype": "text/x-python",
   "name": "python",
   "nbconvert_exporter": "python",
   "pygments_lexer": "ipython3",
   "version": "3.12.3"
  }
 },
 "nbformat": 4,
 "nbformat_minor": 5
}
