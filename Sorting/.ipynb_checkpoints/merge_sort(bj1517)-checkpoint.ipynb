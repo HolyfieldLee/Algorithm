{
 "cells": [
  {
   "cell_type": "markdown",
   "id": "8d6d5b41-fdeb-4f6a-8231-920ae206463d",
   "metadata": {},
   "source": [
    "병합정렬 과정에서 병합이 일어나는데 이 과정에서 버블정렬의 swap이 포함되어 있다는 것을 떠올릴 수 있다. 그래서 병합정렬 과정에서 swap이 몇 번 일어나는지 개수를 세면 몇 번의 버블정렬이 일어났는지 확인할 수 있다.\n",
    "\n",
    "During the merge step of merge sort, one might recall that it involves the equivalent of swaps in bubble sort. Therefore, by counting how many such swaps occur during merge sort, you can determine how many swaps would have been performed in bubble sort."
   ]
  },
  {
   "cell_type": "code",
   "execution_count": 5,
   "id": "230d6bcf-0159-4710-8325-a477a78e4a10",
   "metadata": {},
   "outputs": [
    {
     "name": "stdin",
     "output_type": "stream",
     "text": [
      " 8\n",
      " 3 2 8 1 7 4 5 6\n"
     ]
    },
    {
     "name": "stdout",
     "output_type": "stream",
     "text": [
      "11\n"
     ]
    }
   ],
   "source": [
    "result = 0\n",
    "\n",
    "def merge_sort(s,e):\n",
    "    global result\n",
    "    if e - s < 1: return\n",
    "    m = int(s + (e - s) // 2)\n",
    "    merge_sort(s, m)\n",
    "    merge_sort(m+1, e)\n",
    "    for i in range(s, e + 1):\n",
    "        tmp[i] = A[i]\n",
    "    k = s\n",
    "    index1 = s\n",
    "    index2 = m + 1\n",
    "    while index1 <= m and index2 <= e:\n",
    "        if tmp[index1] > tmp[index2]:\n",
    "            A[k] = tmp[index2]\n",
    "            result = result + index2 - k\n",
    "            k = k + 1\n",
    "            index2 = index2 + 1\n",
    "\n",
    "        else:\n",
    "            A[k] = tmp[index1]\n",
    "            k = k + 1\n",
    "            index1 = index1 + 1\n",
    "\n",
    "    while index1 <= m:\n",
    "        A[k] = tmp[index1]\n",
    "        k = k + 1\n",
    "        index1 = index1 + 1\n",
    "\n",
    "    while index2 <= e:\n",
    "        A[k] = tmp[index2]\n",
    "        k = k + 1\n",
    "        index2 = index2 + 1\n",
    "\n",
    "\n",
    "N = int(input())\n",
    "A = list(map(int, input().split()))\n",
    "A.insert(0,0)\n",
    "tmp = [0] * int(N + 1)\n",
    "merge_sort(1, N)\n",
    "print(result)"
   ]
  },
  {
   "cell_type": "code",
   "execution_count": null,
   "id": "36e9287b-b816-472a-a58e-688ed6244320",
   "metadata": {},
   "outputs": [],
   "source": []
  }
 ],
 "metadata": {
  "kernelspec": {
   "display_name": "Python 3 (ipykernel)",
   "language": "python",
   "name": "python3"
  },
  "language_info": {
   "codemirror_mode": {
    "name": "ipython",
    "version": 3
   },
   "file_extension": ".py",
   "mimetype": "text/x-python",
   "name": "python",
   "nbconvert_exporter": "python",
   "pygments_lexer": "ipython3",
   "version": "3.12.3"
  }
 },
 "nbformat": 4,
 "nbformat_minor": 5
}
