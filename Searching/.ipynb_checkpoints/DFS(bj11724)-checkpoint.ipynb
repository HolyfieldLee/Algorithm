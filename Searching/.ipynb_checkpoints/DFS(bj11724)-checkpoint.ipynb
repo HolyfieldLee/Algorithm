{
 "cells": [
  {
   "cell_type": "markdown",
   "id": "6895dbe9-888b-4fb6-a947-a98f38b5ee88",
   "metadata": {},
   "source": [
    "# 챙겨갈 지식\n",
    "\n",
    "## 1. 인접 리스트(Adjacency List)를 만든다.\n",
    "\n",
    "각 정점이 연결된 정점들을 저장하는 리스트로, 겹리스트(리스트 안에 리스트) 형태로 표현한다.\n",
    "\n",
    "## 2. 방문 리스트(Visited List)도 만든다.\n",
    "\n",
    "각 정점이 방문되었는지 여부를 체크하는 용도의 리스트다.\n",
    "\n",
    "## 3. 재귀함수(DFS)를 사용한다.\n",
    "\n",
    "방문한 정점은 방문 리스트에 체크하고,\n",
    "\n",
    "인접 리스트를 참조해서 연결된 정점들을 차례로 재귀적으로 방문한다.\n",
    "\n",
    "# English\n",
    "\n",
    "# Key Takeaways\n",
    "\n",
    "## 1. Build an Adjacency List.\n",
    "\n",
    "Store each node’s connected neighbors in a list, using a nested (list of lists) structure.\n",
    "\n",
    "## 2. Create a Visited List.\n",
    "\n",
    "Use a list to keep track of whether each node has been visited.\n",
    "\n",
    "## 3. Use a Recursive DFS Function.\n",
    "\n",
    "Mark nodes as visited in the visited list,\n",
    "\n",
    "and recursively visit all connected nodes using the adjacency list.\n",
    "\n",
    "This allows you to explore all connected nodes without missing any!\n"
   ]
  },
  {
   "cell_type": "code",
   "execution_count": 5,
   "id": "28144bab-8d3f-4e6f-b47c-063ad39f62c2",
   "metadata": {},
   "outputs": [
    {
     "name": "stdin",
     "output_type": "stream",
     "text": [
      " 6 5\n",
      " 1 2\n",
      " 2 5\n",
      " 5 1\n",
      " 3 4\n",
      " 4 6\n"
     ]
    },
    {
     "name": "stdout",
     "output_type": "stream",
     "text": [
      "2\n"
     ]
    }
   ],
   "source": [
    "n, m = map(int, input().split())\n",
    "A = [[] for _ in range(n+1)]\n",
    "visited = [False] * (n + 1)\n",
    "\n",
    "def DFS(v):\n",
    "    visited[v] = True\n",
    "    for i in A[v]:\n",
    "        if not visited[i]:\n",
    "            DFS(i)\n",
    "\n",
    "for _ in range(m):\n",
    "    s, e = map(int, input().split())\n",
    "    A[s].append(e)\n",
    "    A[e].append(s)\n",
    "\n",
    "count = 0\n",
    "\n",
    "for i in range(1, n+1):\n",
    "    if not visited[i]:\n",
    "        count = count + 1\n",
    "        DFS(i)\n",
    "\n",
    "print(count)"
   ]
  },
  {
   "cell_type": "code",
   "execution_count": null,
   "id": "c552adfa-351d-456e-9933-2695e9fb1187",
   "metadata": {},
   "outputs": [],
   "source": []
  }
 ],
 "metadata": {
  "kernelspec": {
   "display_name": "Python 3 (ipykernel)",
   "language": "python",
   "name": "python3"
  },
  "language_info": {
   "codemirror_mode": {
    "name": "ipython",
    "version": 3
   },
   "file_extension": ".py",
   "mimetype": "text/x-python",
   "name": "python",
   "nbconvert_exporter": "python",
   "pygments_lexer": "ipython3",
   "version": "3.12.3"
  }
 },
 "nbformat": 4,
 "nbformat_minor": 5
}
